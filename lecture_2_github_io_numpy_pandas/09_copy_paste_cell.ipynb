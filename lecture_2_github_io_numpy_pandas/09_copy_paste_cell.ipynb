{
 "metadata": {
  "name": "",
  "signature": "sha256:b3ca49958d7acfa4d3fd30701ebd8b505464c3be8467e5efd1013bf2b7896eaf"
 },
 "nbformat": 3,
 "nbformat_minor": 0,
 "worksheets": [
  {
   "cells": [
    {
     "cell_type": "markdown",
     "metadata": {},
     "source": [
      "Example showing how to copy a cell using 'clipboardData' in Chrome"
     ]
    },
    {
     "cell_type": "code",
     "collapsed": false,
     "input": [
      "%%javascript\n",
      "/* override clipboard 'paste' and insert new cell from json data in clipboard\n",
      " * works only with chrome\n",
      " */\n",
      "window.addEventListener('paste', function(event){\n",
      "    event.preventDefault();\n",
      "    var data = event.clipboardData.getData('application/json');\n",
      "    var new_cell_data = JSON.parse(data);\n",
      "    var new_cell = IPython.notebook.insert_cell_below(new_cell_data.cell_type);\n",
      "    new_cell.fromJSON(new_cell_data);\n",
      "});\n"
     ],
     "language": "python",
     "metadata": {},
     "outputs": [
      {
       "javascript": [
        "/* override clipboard 'paste' and insert new cell from json data in clipboard\n",
        " * works only with chrome\n",
        " */\n",
        "window.addEventListener('paste', function(event){\n",
        "    event.preventDefault();\n",
        "    var data = event.clipboardData.getData('application/json');\n",
        "    var new_cell_data = JSON.parse(data);\n",
        "    var new_cell = IPython.notebook.insert_cell_below(new_cell_data.cell_type);\n",
        "    new_cell.fromJSON(new_cell_data);\n",
        "});"
       ],
       "metadata": {},
       "output_type": "display_data",
       "text": [
        "<IPython.core.display.Javascript at 0x1080d64d0>"
       ]
      }
     ],
     "prompt_number": 1
    },
    {
     "cell_type": "code",
     "collapsed": false,
     "input": [
      "%%javascript\n",
      "/* override clipboard 'copy' and copy current cell as json to clipboard\n",
      " * works only with chrome\n",
      " */\n",
      "window.addEventListener('copy', function(event){\n",
      "    event.preventDefault();\n",
      "    var cell = IPython.notebook.get_selected_cell();   \n",
      "    var j = cell.toJSON();\n",
      "    var json = JSON.stringify(j);\n",
      "    var data = event.clipboardData.setData('application/json',json);\n",
      "});"
     ],
     "language": "python",
     "metadata": {},
     "outputs": [
      {
       "javascript": [
        "/* override clipboard 'copy' and copy current cell as json to clipboard\n",
        " * works only with chrome\n",
        " */\n",
        "window.addEventListener('copy', function(event){\n",
        "    event.preventDefault();\n",
        "    var cell = IPython.notebook.get_selected_cell();   \n",
        "    var j = cell.toJSON();\n",
        "    var json = JSON.stringify(j);\n",
        "    var data = event.clipboardData.setData('application/json',json);\n",
        "});"
       ],
       "metadata": {},
       "output_type": "display_data",
       "text": [
        "<IPython.core.display.Javascript at 0x1080d6450>"
       ]
      }
     ],
     "prompt_number": 2
    },
    {
     "cell_type": "code",
     "collapsed": false,
     "input": [],
     "language": "python",
     "metadata": {},
     "outputs": []
    },
    {
     "cell_type": "code",
     "collapsed": false,
     "input": [],
     "language": "python",
     "metadata": {},
     "outputs": []
    },
    {
     "cell_type": "code",
     "collapsed": false,
     "input": [],
     "language": "python",
     "metadata": {},
     "outputs": []
    },
    {
     "cell_type": "code",
     "collapsed": false,
     "input": [
      "%%javascript\n",
      "/* override clipboard 'paste' and insert new cell from json data in clipboard\n",
      " * works only with chrome\n",
      " */\n",
      "window.addEventListener('paste', function(event){\n",
      "    event.preventDefault();\n",
      "    var data = event.clipboardData.getData('application/json');\n",
      "    var new_cell_data = JSON.parse(data);\n",
      "    var new_cell = IPython.notebook.insert_cell_below(new_cell_data.cell_type);\n",
      "    new_cell.fromJSON(new_cell_data);\n",
      "});\n"
     ],
     "language": "python",
     "metadata": {},
     "outputs": [
      {
       "javascript": [
        "/* override clipboard 'paste' and insert new cell from json data in clipboard\n",
        " * works only with chrome\n",
        " */\n",
        "window.addEventListener('paste', function(event){\n",
        "    event.preventDefault();\n",
        "    var data = event.clipboardData.getData('application/json');\n",
        "    var new_cell_data = JSON.parse(data);\n",
        "    var new_cell = IPython.notebook.insert_cell_below(new_cell_data.cell_type);\n",
        "    new_cell.fromJSON(new_cell_data);\n",
        "});"
       ],
       "metadata": {},
       "output_type": "display_data",
       "text": [
        "<IPython.core.display.Javascript at 0x1080d64d0>"
       ]
      }
     ],
     "prompt_number": 1
    }
   ],
   "metadata": {}
  }
 ]
}