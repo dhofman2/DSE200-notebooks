{
 "metadata": {
  "name": "",
  "signature": "sha256:d62442a5499354ff95d989c93e98c0584161f1e346bd25697b9752e36e736785"
 },
 "nbformat": 3,
 "nbformat_minor": 0,
 "worksheets": [
  {
   "cells": [
    {
     "cell_type": "code",
     "collapsed": false,
     "input": [
      "import time\n",
      "def measureRandomAccess(size,filename='',k=100000):\n",
      "    \"\"\" Measure the distribution of random accesses in computer memory.\n",
      "    size=size of memory block.\n",
      "    filename= a file that is used as an external buffer. If filename=='' then everything is done in memory.\n",
      "    k = number of times that the experiment is repeated.\n",
      "    output:\n",
      "    mean = the mean of T\n",
      "    std = the std of T\n",
      "    T = a list the contains the times of all k experiments\n",
      "    \"\"\"\n",
      "    # Prepare buffer.\n",
      "    if filename == '':\n",
      "        inmem=True\n",
      "        A=bytearray(size)\n",
      "    else:\n",
      "        inmem=False\n",
      "        file=open(filename,'r+')\n",
      "        \n",
      "    # Read and write k times from/to buffer.\n",
      "    sum=0; sum2=0\n",
      "    T=np.zeros(k)\n",
      "    for i in range(k):\n",
      "        if (i%10000==0): print i,',',\n",
      "        t=time.time()\n",
      "        loc=int(rand()*size)\n",
      "        if inmem:\n",
      "            x=A[loc:loc+4]\n",
      "            A[loc]=(i % 256)\n",
      "        else:\n",
      "            file.seek(loc)\n",
      "            poke=file.read(1)\n",
      "            file.write(\"test\")\n",
      "        d=time.time()-t\n",
      "        T[i]=d\n",
      "        sum += d\n",
      "        sum2 += d*d\n",
      "    mean=sum/k; var=(sum2/k)-mean**2; std=sqrt(var)\n",
      "    return (mean,std,T)"
     ],
     "language": "python",
     "metadata": {},
     "outputs": [],
     "prompt_number": 2
    },
    {
     "cell_type": "code",
     "collapsed": false,
     "input": [
      "from matplotlib.backends.backend_pdf import PdfPages\n",
      "from scipy.special import erf,erfinv\n",
      "\n",
      "def PlotTime(Tsorted,Mean,Std,Color='b',LS='-',Legend=''):\n",
      "    \"\"\" plot distribution of times on a log-log scale\"\"\"\n",
      "    P=arange(1,0,-1.0/k)    # probability \n",
      "    loglog(Tsorted,P,color=Color,label=Legend,linestyle=LS)                 # plot log-log of 1-CDF \n",
      "    \n",
      "    grid()\n",
      "    loglog([Mean,Mean],[1,0.0001],color=Color,linestyle=LS)           # vert line at mean\n",
      "    Y=0.1**((m_i+1.)/2.)\n",
      "    loglog([Mean,min(Mean+Std,1)],[Y,Y],color=Color,linestyle=LS) # horiz line from mean to mean + std\n",
      "        \n",
      "    x=arange(Mean,Mean+Std*erfinv(1.0-1.0/len(Tsorted)),Std/100)  # normal distribution \n",
      "    loglog(x,1-erf((x-Mean)/Std),color=Color,linestyle=LS)"
     ],
     "language": "python",
     "metadata": {},
     "outputs": [],
     "prompt_number": 3
    },
    {
     "cell_type": "code",
     "collapsed": false,
     "input": [
      "n=1000000 # size of single block (1MB)\n",
      "m_list=[1,10,100,1000] #,10000] # size of file in blocks\n",
      "m=None\n",
      "k=100000;\n",
      "L=len(m_list)\n",
      "#print 'n=%d, m=%d,k=%d, m_list=' % (n,m,k),m_list\n",
      "\n",
      "from os.path import isfile,isdir\n",
      "from os import mkdir\n",
      "import os\n",
      "root=os.environ['HOME']\n",
      "log_root=root+'/logs'\n",
      "if not isdir(log_root): mkdir(log_root)\n",
      "TimeStamp=str(int(time.time()))\n",
      "log_dir=log_root+'/'+TimeStamp\n",
      "mkdir(log_dir)\n",
      "%cd $log_dir\n",
      "stat=open('stats.txt','w')\n",
      "\n",
      "def tee(line):\n",
      "    print line\n",
      "    stat.write(line+'\\n')"
     ],
     "language": "python",
     "metadata": {},
     "outputs": [
      {
       "output_type": "stream",
       "stream": "stdout",
       "text": [
        "/Users/yoavfreund/logs/1413328512\n"
       ]
      }
     ],
     "prompt_number": 4
    },
    {
     "cell_type": "code",
     "collapsed": false,
     "input": [
      "!ls -lh"
     ],
     "language": "python",
     "metadata": {},
     "outputs": [
      {
       "output_type": "stream",
       "stream": "stdout",
       "text": [
        "total 2170040\r\n",
        "-rw-r--r--  1 yoavfreund  503   978K Oct 14 16:15 BlockData1\r\n",
        "-rw-r--r--  1 yoavfreund  503   9.5M Oct 14 16:15 BlockData10\r\n",
        "-rw-r--r--  1 yoavfreund  503    95M Oct 14 16:15 BlockData100\r\n",
        "-rw-r--r--  1 yoavfreund  503   954M Oct 14 16:15 BlockData1000\r\n",
        "-rw-r--r--  1 yoavfreund  503    40K Oct 14 16:15 MemoryFigure.pdf\r\n",
        "-rw-r--r--  1 yoavfreund  503   1.7K Oct 14 16:16 stats.txt\r\n"
       ]
      }
     ],
     "prompt_number": 13
    },
    {
     "cell_type": "code",
     "collapsed": false,
     "input": [
      "def create_file(n,m,filename='DataBlock'):\n",
      "    t1=time.time()\n",
      "    A=bytearray(n)\n",
      "    t2=time.time()\n",
      "    file=open(filename,'w')\n",
      "    for i in range(m):\n",
      "        file.write(A)\n",
      "        if i % 100 == 0:\n",
      "            print i,\",\",\n",
      "    file.close()\n",
      "    t3=time.time()\n",
      "    tee('\\ncreating %d byte block: %f sec, writing %d blocks %f sec' % (n,t2-t1,m,t3-t2))\n",
      "    return (t2-t1,t3-t2)\n",
      "\n",
      "mean=zeros([2,L])   #0: using disk, 1: using memory\n",
      "std=zeros([2,L])\n",
      "T=zeros([2,L,k])\n",
      "\n",
      "for m_i in range(len(m_list)):\n",
      "    \n",
      "    m=m_list[m_i]\n",
      "    (t_mem,t_disk) = create_file(n,m,filename='BlockData'+str(m))\n",
      "\n",
      "    (mean[0,m_i],std[0,m_i],T[0,m_i]) = measureRandomAccess(n*m,filename='BlockData'+str(m),k=k)\n",
      "    tee('\\nFile pokes mean='+str(mean[0,m_i])+', file std='+str(std[0,m_i]))\n",
      "\n",
      "    (mean[1,m_i],std[1,m_i],T[1,m_i]) = measureRandomAccess(n*m,k=k)\n",
      "    tee('\\nMemory pokes mean='+str(mean[1,m_i])+', file std='+str(std[1,m_i]))\n",
      "\n",
      "pp = PdfPages('MemoryFigure.pdf')\n",
      "figure(figsize=(6,4))\n",
      "\n",
      "Colors='bgrcmyk'  # The colors for the plot\n",
      "LineStyles=['-',':']\n",
      "Legends=['F','M']\n",
      "\n",
      "fig = matplotlib.pyplot.gcf()\n",
      "fig.set_size_inches(18.5,10.5)\n",
      "\n",
      "for m_i in range(len(m_list)):\n",
      "    Color=Colors[m_i % len(Colors)]\n",
      "    for Type in [0,1]:\n",
      "        PlotTime(sort(T[Type,m_i]),mean[Type,m_i],std[Type,m_i],\n",
      "                 Color=Color,LS=LineStyles[Type],Legend=('%dMB-' % m_list[m_i])+Legends[Type])\n",
      "\n",
      "grid()\n",
      "legend(fontsize='medium')\n",
      "xlabel('delay (sec)')\n",
      "ylabel('1-CDF')\n",
      "pp.savefig()\n",
      "pp.close()"
     ],
     "language": "python",
     "metadata": {},
     "outputs": [
      {
       "output_type": "stream",
       "stream": "stdout",
       "text": [
        "0 , \n",
        "creating 1000000 byte block: 0.000596, writing 1 blocks 0.002234\n",
        "0 , "
       ]
      },
      {
       "output_type": "stream",
       "stream": "stdout",
       "text": [
        "10000 , "
       ]
      },
      {
       "output_type": "stream",
       "stream": "stdout",
       "text": [
        "20000 , "
       ]
      },
      {
       "output_type": "stream",
       "stream": "stdout",
       "text": [
        "30000 , "
       ]
      },
      {
       "output_type": "stream",
       "stream": "stdout",
       "text": [
        "40000 , "
       ]
      },
      {
       "output_type": "stream",
       "stream": "stdout",
       "text": [
        "50000 , "
       ]
      },
      {
       "output_type": "stream",
       "stream": "stdout",
       "text": [
        "60000 , "
       ]
      },
      {
       "output_type": "stream",
       "stream": "stdout",
       "text": [
        "70000 , "
       ]
      },
      {
       "output_type": "stream",
       "stream": "stdout",
       "text": [
        "80000 , "
       ]
      },
      {
       "output_type": "stream",
       "stream": "stdout",
       "text": [
        "90000 , "
       ]
      },
      {
       "output_type": "stream",
       "stream": "stdout",
       "text": [
        "\n",
        "File pokes mean=6.33369445801e-06, file std=1.37202074523e-05\n",
        "0 , 10000 , 20000 , 30000 , "
       ]
      },
      {
       "output_type": "stream",
       "stream": "stdout",
       "text": [
        "40000 , 50000 , 60000 , 70000 , "
       ]
      },
      {
       "output_type": "stream",
       "stream": "stdout",
       "text": [
        "80000 , 90000 , \n",
        "Memory pokes mean=1.03107213974e-06, file std=3.87969768322e-07\n",
        "0 , "
       ]
      },
      {
       "output_type": "stream",
       "stream": "stdout",
       "text": [
        "\n",
        "creating 1000000 byte block: 0.000039, writing 10 blocks 0.022518\n",
        "0 , "
       ]
      },
      {
       "output_type": "stream",
       "stream": "stdout",
       "text": [
        "10000 , "
       ]
      },
      {
       "output_type": "stream",
       "stream": "stdout",
       "text": [
        "20000 , "
       ]
      },
      {
       "output_type": "stream",
       "stream": "stdout",
       "text": [
        "30000 , "
       ]
      },
      {
       "output_type": "stream",
       "stream": "stdout",
       "text": [
        "40000 , "
       ]
      },
      {
       "output_type": "stream",
       "stream": "stdout",
       "text": [
        "50000 , "
       ]
      },
      {
       "output_type": "stream",
       "stream": "stdout",
       "text": [
        "60000 , "
       ]
      },
      {
       "output_type": "stream",
       "stream": "stdout",
       "text": [
        "70000 , "
       ]
      },
      {
       "output_type": "stream",
       "stream": "stdout",
       "text": [
        "80000 , "
       ]
      },
      {
       "output_type": "stream",
       "stream": "stdout",
       "text": [
        "90000 , "
       ]
      },
      {
       "output_type": "stream",
       "stream": "stdout",
       "text": [
        "\n",
        "File pokes mean=6.91251039505e-06, file std=5.77073961884e-05\n",
        "0 , 10000 , 20000 , "
       ]
      },
      {
       "output_type": "stream",
       "stream": "stdout",
       "text": [
        "30000 , 40000 , 50000 , "
       ]
      },
      {
       "output_type": "stream",
       "stream": "stdout",
       "text": [
        "60000 , 70000 , 80000 , "
       ]
      },
      {
       "output_type": "stream",
       "stream": "stdout",
       "text": [
        "90000 , \n",
        "Memory pokes mean=1.08000516891e-06, file std=4.44039340243e-07\n",
        "0 , "
       ]
      },
      {
       "output_type": "stream",
       "stream": "stdout",
       "text": [
        "\n",
        "creating 1000000 byte block: 0.000038, writing 100 blocks 0.275576\n",
        "0 , "
       ]
      },
      {
       "output_type": "stream",
       "stream": "stdout",
       "text": [
        "10000 , "
       ]
      },
      {
       "output_type": "stream",
       "stream": "stdout",
       "text": [
        "20000 , "
       ]
      },
      {
       "output_type": "stream",
       "stream": "stdout",
       "text": [
        "30000 , "
       ]
      },
      {
       "output_type": "stream",
       "stream": "stdout",
       "text": [
        "40000 , "
       ]
      },
      {
       "output_type": "stream",
       "stream": "stdout",
       "text": [
        "50000 , "
       ]
      },
      {
       "output_type": "stream",
       "stream": "stdout",
       "text": [
        "60000 , "
       ]
      },
      {
       "output_type": "stream",
       "stream": "stdout",
       "text": [
        "70000 , "
       ]
      },
      {
       "output_type": "stream",
       "stream": "stdout",
       "text": [
        "80000 , "
       ]
      },
      {
       "output_type": "stream",
       "stream": "stdout",
       "text": [
        "90000 , "
       ]
      },
      {
       "output_type": "stream",
       "stream": "stdout",
       "text": [
        "\n",
        "File pokes mean=7.69372940063e-06, file std=4.08598880204e-05\n",
        "0"
       ]
      },
      {
       "output_type": "stream",
       "stream": "stdout",
       "text": [
        " , 10000 , 20000 , "
       ]
      },
      {
       "output_type": "stream",
       "stream": "stdout",
       "text": [
        "30000 , 40000 , 50000 , "
       ]
      },
      {
       "output_type": "stream",
       "stream": "stdout",
       "text": [
        "60000 , 70000 , 80000 , "
       ]
      },
      {
       "output_type": "stream",
       "stream": "stdout",
       "text": [
        "90000 , \n",
        "Memory pokes mean=1.1640381813e-06, file std=4.97857943293e-07\n",
        "0 , "
       ]
      },
      {
       "output_type": "stream",
       "stream": "stdout",
       "text": [
        "100 , "
       ]
      },
      {
       "output_type": "stream",
       "stream": "stdout",
       "text": [
        "200 , "
       ]
      },
      {
       "output_type": "stream",
       "stream": "stdout",
       "text": [
        "300 , "
       ]
      },
      {
       "output_type": "stream",
       "stream": "stdout",
       "text": [
        "400 , "
       ]
      },
      {
       "output_type": "stream",
       "stream": "stdout",
       "text": [
        "500 , "
       ]
      },
      {
       "output_type": "stream",
       "stream": "stdout",
       "text": [
        "600 , "
       ]
      },
      {
       "output_type": "stream",
       "stream": "stdout",
       "text": [
        "700 , "
       ]
      },
      {
       "output_type": "stream",
       "stream": "stdout",
       "text": [
        "800 , "
       ]
      },
      {
       "output_type": "stream",
       "stream": "stdout",
       "text": [
        "900 , "
       ]
      },
      {
       "output_type": "stream",
       "stream": "stdout",
       "text": [
        "\n",
        "creating 1000000 byte block: 0.000038, writing 1000 blocks 2.788727\n",
        "0 , "
       ]
      },
      {
       "output_type": "stream",
       "stream": "stdout",
       "text": [
        "10000 , "
       ]
      },
      {
       "output_type": "stream",
       "stream": "stdout",
       "text": [
        "20000 , "
       ]
      },
      {
       "output_type": "stream",
       "stream": "stdout",
       "text": [
        "30000 , "
       ]
      },
      {
       "output_type": "stream",
       "stream": "stdout",
       "text": [
        "40000 , "
       ]
      },
      {
       "output_type": "stream",
       "stream": "stdout",
       "text": [
        "50000 , "
       ]
      },
      {
       "output_type": "stream",
       "stream": "stdout",
       "text": [
        "60000 , "
       ]
      },
      {
       "output_type": "stream",
       "stream": "stdout",
       "text": [
        "70000 , "
       ]
      },
      {
       "output_type": "stream",
       "stream": "stdout",
       "text": [
        "80000 , "
       ]
      },
      {
       "output_type": "stream",
       "stream": "stdout",
       "text": [
        "90000 , "
       ]
      },
      {
       "output_type": "stream",
       "stream": "stdout",
       "text": [
        "\n",
        "File pokes mean=0.000177367827892, file std=0.000308771859605\n",
        "0"
       ]
      },
      {
       "output_type": "stream",
       "stream": "stdout",
       "text": [
        " , 10000 , 20000 , "
       ]
      },
      {
       "output_type": "stream",
       "stream": "stdout",
       "text": [
        "30000 , 40000 , 50000 , "
       ]
      },
      {
       "output_type": "stream",
       "stream": "stdout",
       "text": [
        "60000 , 70000 , 80000 , "
       ]
      },
      {
       "output_type": "stream",
       "stream": "stdout",
       "text": [
        "90000 , "
       ]
      },
      {
       "output_type": "stream",
       "stream": "stdout",
       "text": [
        "\n",
        "Memory pokes mean=1.32090806961e-06, file std=6.20817291443e-07\n"
       ]
      },
      {
       "metadata": {},
       "output_type": "display_data",
       "png": "[encoded data removed]",
       "text": [
        "<matplotlib.figure.Figure at 0x1078d5050>"
       ]
      }
     ],
     "prompt_number": 5
    },
    {
     "cell_type": "code",
     "collapsed": false,
     "input": [
      "import time\n",
      "\n",
      "Line='Consecutive Memory writes'\n",
      "print Line; stat.write(Line+'\\n')\n",
      "n=1000\n",
      "r=np.array(range(n))\n",
      "for m in [1,3,5,7,10,100,1000,10000,100000,1000000]:\n",
      "    t1=time.time()\n",
      "    A=np.repeat(r,m)\n",
      "    t2=time.time()\n",
      "    tee(\"array of length %d repeated %d times. total size=%6.3f MB, Time per element= %g\" % (n,m,float(n*m)/1000000,(t2-t1)/float(n*m)))\n",
      "A=[];r=[]\n",
      "stat.close()"
     ],
     "language": "python",
     "metadata": {},
     "outputs": [
      {
       "output_type": "stream",
       "stream": "stdout",
       "text": [
        "Consecutive Memory writes\n",
        "array of length 1000 repeated 1 times. total size= 0.001 MB, Time per element= 1.50204e-08\n",
        "array of length 1000 repeated 3 times. total size= 0.003 MB, Time per element= 7.3115e-09\n",
        "array of length 1000 repeated 5 times. total size= 0.005 MB, Time per element= 7.39098e-09\n",
        "array of length 1000 repeated 7 times. total size= 0.007 MB, Time per element= 9.60486e-09\n",
        "array of length 1000 repeated 10 times. total size= 0.010 MB, Time per element= 9.799e-09\n",
        "array of length 1000 repeated 100 times. total size= 0.100 MB, Time per element= 5.31912e-09\n",
        "array of length 1000 repeated 1000 times. total size= 1.000 MB, Time per element= 5.5151e-09\n",
        "array of length 1000 repeated 10000 times. total size=10.000 MB, Time per element= 5.91691e-09"
       ]
      },
      {
       "output_type": "stream",
       "stream": "stdout",
       "text": [
        "\n",
        "array of length 1000 repeated 100000 times. total size=100.000 MB, Time per element= 8.26793e-09"
       ]
      },
      {
       "output_type": "stream",
       "stream": "stdout",
       "text": [
        "\n",
        "array of length 1000 repeated 1000000 times. total size=1000.000 MB, Time per element= 1.15166e-08"
       ]
      },
      {
       "output_type": "stream",
       "stream": "stdout",
       "text": [
        "\n"
       ]
      }
     ],
     "prompt_number": 6
    },
    {
     "cell_type": "markdown",
     "metadata": {},
     "source": [
      "## Main Observations\n",
      "\n",
      "* If you write to consecutive locations, you have a per-byte time of around $10^{-8}$ if you jump around you can't do better than $10^{-6}$.\n",
      "* As you increase the size of the array/file you decrease the speed significantly.\n",
      "* The high latency tails are much bigger than what you'd expect from a normal distribution with the same mean and std."
     ]
    },
    {
     "cell_type": "code",
     "collapsed": false,
     "input": [
      "!echo `hostname` > hostname"
     ],
     "language": "python",
     "metadata": {},
     "outputs": [],
     "prompt_number": 94
    },
    {
     "cell_type": "code",
     "collapsed": false,
     "input": [
      "!cat /proc/cpuinfo > cpuinfo\n",
      "!cat /proc/meminfo > meminfo"
     ],
     "language": "python",
     "metadata": {},
     "outputs": [],
     "prompt_number": 95
    },
    {
     "cell_type": "code",
     "collapsed": false,
     "input": [
      "!system_profiler >system_profiler.out   # A profiling command for mac"
     ],
     "language": "python",
     "metadata": {},
     "outputs": [
      {
       "output_type": "stream",
       "stream": "stdout",
       "text": [
        "/bin/sh: 1: system_profiler: not found\r\n"
       ]
      }
     ],
     "prompt_number": 52
    },
    {
     "cell_type": "code",
     "collapsed": false,
     "input": [
      "file=open('system_profiler.out','r')\n",
      "Print_flag=False\n",
      "for line in file.readlines():\n",
      "    if line.startswith('Hardware:'):\n",
      "        Print_flag=True\n",
      "    if Print_flag and line.startswith('Installations:'):\n",
      "        break\n",
      "    if Print_flag:\n",
      "        print line,\n",
      "        "
     ],
     "language": "python",
     "metadata": {},
     "outputs": [],
     "prompt_number": 53
    },
    {
     "cell_type": "code",
     "collapsed": false,
     "input": [
      "!cat stats.txt"
     ],
     "language": "python",
     "metadata": {},
     "outputs": [
      {
       "output_type": "stream",
       "stream": "stdout",
       "text": [
        "\r\n",
        "creating 1000000 byte block: 0.000821, writing 1 blocks 0.000996\r\n",
        "\r\n",
        "File pokes mean=9.10135030746e-06, file std=0.000185824915081\r\n",
        "\r\n",
        "Memory pokes mean=1.74527168274e-06, file std=5.01469258693e-07\r\n",
        "\r\n",
        "creating 1000000 byte block: 0.000079, writing 10 blocks 0.006422\r\n",
        "\r\n",
        "File pokes mean=8.58283758163e-06, file std=8.08081043866e-07\r\n",
        "\r\n",
        "Memory pokes mean=1.78812265396e-06, file std=4.86007954514e-07\r\n",
        "\r\n",
        "creating 1000000 byte block: 0.000112, writing 100 blocks 0.060451\r\n",
        "\r\n",
        "File pokes mean=8.83054494858e-06, file std=9.63406577187e-07\r\n",
        "\r\n",
        "Memory pokes mean=1.79579257965e-06, file std=4.92295373915e-07\r\n",
        "\r\n",
        "creating 1000000 byte block: 0.000114, writing 1000 blocks 0.608214\r\n",
        "\r\n",
        "File pokes mean=1.00868082047e-05, file std=0.000253716416115\r\n",
        "\r\n",
        "Memory pokes mean=1.82849645615e-06, file std=4.62373951503e-07\r\n",
        "Consecutive Memory writes\r\n",
        "array of length 1000 repeated 1 times. total size= 0.001 MB, Time per element= 1.90735e-08\r\n",
        "array of length 1000 repeated 3 times. total size= 0.003 MB, Time per element= 8.26518e-09\r\n",
        "array of length 1000 repeated 5 times. total size= 0.005 MB, Time per element= 7.00951e-09\r\n",
        "array of length 1000 repeated 7 times. total size= 0.007 MB, Time per element= 1.41348e-08\r\n",
        "array of length 1000 repeated 10 times. total size= 0.010 MB, Time per element= 6.19888e-09\r\n",
        "array of length 1000 repeated 100 times. total size= 0.100 MB, Time per element= 1.0221e-08\r\n",
        "array of length 1000 repeated 1000 times. total size= 1.000 MB, Time per element= 1.00188e-08\r\n",
        "array of length 1000 repeated 10000 times. total size=10.000 MB, Time per element= 1.05831e-08\r\n",
        "array of length 1000 repeated 100000 times. total size=100.000 MB, Time per element= 1.08111e-08\r\n",
        "array of length 1000 repeated 1000000 times. total size=1000.000 MB, Time per element= 1.08459e-08\r\n"
       ]
      }
     ],
     "prompt_number": 97
    },
    {
     "cell_type": "code",
     "collapsed": false,
     "input": [],
     "language": "python",
     "metadata": {},
     "outputs": []
    }
   ],
   "metadata": {}
  }
 ]
}