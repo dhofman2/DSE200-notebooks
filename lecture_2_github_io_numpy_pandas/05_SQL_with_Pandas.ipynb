{
 "metadata": {
  "name": "",
  "signature": "sha256:5bf3238d2d25859e4446d489042a283f2c91365aa4e2dc4a67b4e10c204aff77"
 },
 "nbformat": 3,
 "nbformat_minor": 0,
 "worksheets": [
  {
   "cells": [
    {
     "cell_type": "markdown",
     "metadata": {},
     "source": [
      "###SQL in Pandas\n",
      "\n",
      "This notebook teaches the essential functions necessary to access and run SQL databases from within the Python-Pandas framework. For the process we will be using SQLite3, which is a database management system. However, unlike others, SQLite3 is not a separate process that is accessed from the client application, but an integral part of it."
     ]
    },
    {
     "cell_type": "code",
     "collapsed": false,
     "input": [
      "import pandas as pd"
     ],
     "language": "python",
     "metadata": {},
     "outputs": [],
     "prompt_number": 1
    },
    {
     "cell_type": "code",
     "collapsed": false,
     "input": [
      "import sqlite3"
     ],
     "language": "python",
     "metadata": {},
     "outputs": [],
     "prompt_number": 2
    },
    {
     "cell_type": "markdown",
     "metadata": {},
     "source": [
      "###Reading a dataset into a dataframe\n",
      "\n",
      "For this exercise we will create a sample dataframe data_df by reading the csv file - data.csv using the command read_csv\n"
     ]
    },
    {
     "cell_type": "code",
     "collapsed": false,
     "input": [
      "data_df = pd.read_csv('/home/ubuntu/DSE200/data/SQL/data.csv')\n",
      "data_df"
     ],
     "language": "python",
     "metadata": {},
     "outputs": [
      {
       "html": [
        "<div style=\"max-height:1000px;max-width:1500px;overflow:auto;\">\n",
        "<table border=\"1\" class=\"dataframe\">\n",
        "  <thead>\n",
        "    <tr style=\"text-align: right;\">\n",
        "      <th></th>\n",
        "      <th>id</th>\n",
        "      <th>Date</th>\n",
        "      <th>Col_1</th>\n",
        "      <th>Col_2</th>\n",
        "      <th>Col_3</th>\n",
        "    </tr>\n",
        "  </thead>\n",
        "  <tbody>\n",
        "    <tr>\n",
        "      <th>0</th>\n",
        "      <td> 26</td>\n",
        "      <td> 2012-10-18</td>\n",
        "      <td> X</td>\n",
        "      <td> 25.70</td>\n",
        "      <td>  True</td>\n",
        "    </tr>\n",
        "    <tr>\n",
        "      <th>1</th>\n",
        "      <td> 42</td>\n",
        "      <td> 2012-10-19</td>\n",
        "      <td> Y</td>\n",
        "      <td>-12.40</td>\n",
        "      <td> False</td>\n",
        "    </tr>\n",
        "    <tr>\n",
        "      <th>2</th>\n",
        "      <td> 63</td>\n",
        "      <td> 2012-10-20</td>\n",
        "      <td> Z</td>\n",
        "      <td>  5.73</td>\n",
        "      <td>  True</td>\n",
        "    </tr>\n",
        "  </tbody>\n",
        "</table>\n",
        "<p>3 rows \u00d7 5 columns</p>\n",
        "</div>"
       ],
       "metadata": {},
       "output_type": "pyout",
       "prompt_number": 3,
       "text": [
        "   id        Date Col_1  Col_2  Col_3\n",
        "0  26  2012-10-18     X  25.70   True\n",
        "1  42  2012-10-19     Y -12.40  False\n",
        "2  63  2012-10-20     Z   5.73   True\n",
        "\n",
        "[3 rows x 5 columns]"
       ]
      }
     ],
     "prompt_number": 3
    },
    {
     "cell_type": "markdown",
     "metadata": {},
     "source": [
      "###Writing Dataframes\n",
      "\n",
      "We can insert the above dataframe data_df into a sql database by inbuilt sql functions write_frame\n",
      "\n",
      "Pandas has a write_frame function in pd.io.sql which creates a database table from a dataframe.\n",
      "\n",
      "To connect to a database we use sqlite3.connect function. The resulting variable con as shown below is passed everytime a sql query is run via pandas on an sql database\n"
     ]
    },
    {
     "cell_type": "code",
     "collapsed": false,
     "input": [
      "con = sqlite3.connect(\"data_db2.sqlite\")\n"
     ],
     "language": "python",
     "metadata": {},
     "outputs": [],
     "prompt_number": 4
    },
    {
     "cell_type": "code",
     "collapsed": false,
     "input": [
      "data_df.to_sql(\"data\", con, if_exists='replace')"
     ],
     "language": "python",
     "metadata": {},
     "outputs": [],
     "prompt_number": 16
    },
    {
     "cell_type": "markdown",
     "metadata": {},
     "source": [
      "### Reading data from SQL databases\n",
      "\n",
      "You can read data from a SQL database using the pd.read_sql function. read_sql will automatically convert SQL column names to DataFrame column names. read_sql takes 2 arguments: a SELECT statement, and a database connection object. This is great because it means you can read from any kind of SQL database -- it doesn't matter if it's MySQL, SQLite, PostgreSQL, or something else."
     ]
    },
    {
     "cell_type": "code",
     "collapsed": false,
     "input": [
      "df = pd.read_sql(\"SELECT * from data LIMIT 3\", con)\n",
      "df"
     ],
     "language": "python",
     "metadata": {},
     "outputs": [
      {
       "html": [
        "<div style=\"max-height:1000px;max-width:1500px;overflow:auto;\">\n",
        "<table border=\"1\" class=\"dataframe\">\n",
        "  <thead>\n",
        "    <tr style=\"text-align: right;\">\n",
        "      <th></th>\n",
        "      <th>id</th>\n",
        "      <th>Date</th>\n",
        "      <th>Col_1</th>\n",
        "      <th>Col_2</th>\n",
        "      <th>Col_3</th>\n",
        "    </tr>\n",
        "  </thead>\n",
        "  <tbody>\n",
        "    <tr>\n",
        "      <th>0</th>\n",
        "      <td> 26</td>\n",
        "      <td> 2012-10-18</td>\n",
        "      <td> X</td>\n",
        "      <td> 25.70</td>\n",
        "      <td> 1</td>\n",
        "    </tr>\n",
        "    <tr>\n",
        "      <th>1</th>\n",
        "      <td> 42</td>\n",
        "      <td> 2012-10-19</td>\n",
        "      <td> Y</td>\n",
        "      <td>-12.40</td>\n",
        "      <td> 0</td>\n",
        "    </tr>\n",
        "    <tr>\n",
        "      <th>2</th>\n",
        "      <td> 63</td>\n",
        "      <td> 2012-10-20</td>\n",
        "      <td> Z</td>\n",
        "      <td>  5.73</td>\n",
        "      <td> 1</td>\n",
        "    </tr>\n",
        "  </tbody>\n",
        "</table>\n",
        "<p>3 rows \u00d7 5 columns</p>\n",
        "</div>"
       ],
       "metadata": {},
       "output_type": "pyout",
       "prompt_number": 17,
       "text": [
        "   id        Date Col_1  Col_2  Col_3\n",
        "0  26  2012-10-18     X  25.70      1\n",
        "1  42  2012-10-19     Y -12.40      0\n",
        "2  63  2012-10-20     Z   5.73      1\n",
        "\n",
        "[3 rows x 5 columns]"
       ]
      }
     ],
     "prompt_number": 17
    },
    {
     "cell_type": "markdown",
     "metadata": {},
     "source": [
      "read_sql doesn't automatically set the primary key (id) to be the index of the dataframe. You can make it do that by adding an index_col argument to read_sql."
     ]
    },
    {
     "cell_type": "code",
     "collapsed": false,
     "input": [
      "df = pd.read_sql(\"SELECT * from data LIMIT 3\", con, index_col='id')\n",
      "df"
     ],
     "language": "python",
     "metadata": {},
     "outputs": [
      {
       "html": [
        "<div style=\"max-height:1000px;max-width:1500px;overflow:auto;\">\n",
        "<table border=\"1\" class=\"dataframe\">\n",
        "  <thead>\n",
        "    <tr style=\"text-align: right;\">\n",
        "      <th></th>\n",
        "      <th>Date</th>\n",
        "      <th>Col_1</th>\n",
        "      <th>Col_2</th>\n",
        "      <th>Col_3</th>\n",
        "    </tr>\n",
        "    <tr>\n",
        "      <th>id</th>\n",
        "      <th></th>\n",
        "      <th></th>\n",
        "      <th></th>\n",
        "      <th></th>\n",
        "    </tr>\n",
        "  </thead>\n",
        "  <tbody>\n",
        "    <tr>\n",
        "      <th>26</th>\n",
        "      <td> 2012-10-18</td>\n",
        "      <td> X</td>\n",
        "      <td> 25.70</td>\n",
        "      <td> 1</td>\n",
        "    </tr>\n",
        "    <tr>\n",
        "      <th>42</th>\n",
        "      <td> 2012-10-19</td>\n",
        "      <td> Y</td>\n",
        "      <td>-12.40</td>\n",
        "      <td> 0</td>\n",
        "    </tr>\n",
        "    <tr>\n",
        "      <th>63</th>\n",
        "      <td> 2012-10-20</td>\n",
        "      <td> Z</td>\n",
        "      <td>  5.73</td>\n",
        "      <td> 1</td>\n",
        "    </tr>\n",
        "  </tbody>\n",
        "</table>\n",
        "<p>3 rows \u00d7 4 columns</p>\n",
        "</div>"
       ],
       "metadata": {},
       "output_type": "pyout",
       "prompt_number": 18,
       "text": [
        "          Date Col_1  Col_2  Col_3\n",
        "id                                \n",
        "26  2012-10-18     X  25.70      1\n",
        "42  2012-10-19     Y -12.40      0\n",
        "63  2012-10-20     Z   5.73      1\n",
        "\n",
        "[3 rows x 4 columns]"
       ]
      }
     ],
     "prompt_number": 18
    },
    {
     "cell_type": "markdown",
     "metadata": {},
     "source": [
      "You can now run many different sql queries on this dataset through the pandas framework. This is particularly helpful for those who are used to sql and want to use the same queries in pandas\n",
      "\n",
      "For example we can use sql query to fetch a row based on the values in a particular column"
     ]
    },
    {
     "cell_type": "code",
     "collapsed": false,
     "input": [
      "df = pd.read_sql(\"SELECT * from data WHERE Col_3 = 1\",con)\n",
      "df"
     ],
     "language": "python",
     "metadata": {},
     "outputs": [
      {
       "html": [
        "<div style=\"max-height:1000px;max-width:1500px;overflow:auto;\">\n",
        "<table border=\"1\" class=\"dataframe\">\n",
        "  <thead>\n",
        "    <tr style=\"text-align: right;\">\n",
        "      <th></th>\n",
        "      <th>id</th>\n",
        "      <th>Date</th>\n",
        "      <th>Col_1</th>\n",
        "      <th>Col_2</th>\n",
        "      <th>Col_3</th>\n",
        "    </tr>\n",
        "  </thead>\n",
        "  <tbody>\n",
        "    <tr>\n",
        "      <th>0</th>\n",
        "      <td> 26</td>\n",
        "      <td> 2012-10-18</td>\n",
        "      <td> X</td>\n",
        "      <td> 25.70</td>\n",
        "      <td> 1</td>\n",
        "    </tr>\n",
        "    <tr>\n",
        "      <th>1</th>\n",
        "      <td> 63</td>\n",
        "      <td> 2012-10-20</td>\n",
        "      <td> Z</td>\n",
        "      <td>  5.73</td>\n",
        "      <td> 1</td>\n",
        "    </tr>\n",
        "  </tbody>\n",
        "</table>\n",
        "<p>2 rows \u00d7 5 columns</p>\n",
        "</div>"
       ],
       "metadata": {},
       "output_type": "pyout",
       "prompt_number": 25,
       "text": [
        "   id        Date Col_1  Col_2  Col_3\n",
        "0  26  2012-10-18     X  25.70      1\n",
        "1  63  2012-10-20     Z   5.73      1\n",
        "\n",
        "[2 rows x 5 columns]"
       ]
      }
     ],
     "prompt_number": 25
    },
    {
     "cell_type": "markdown",
     "metadata": {},
     "source": [
      "SQL queries can be passed using read_sql comand to sort the rows in the table"
     ]
    },
    {
     "cell_type": "code",
     "collapsed": false,
     "input": [
      "df = pd.read_sql(\"SELECT * from data ORDER BY Col_2 LIMIT 3\",con)\n",
      "df"
     ],
     "language": "python",
     "metadata": {},
     "outputs": [
      {
       "html": [
        "<div style=\"max-height:1000px;max-width:1500px;overflow:auto;\">\n",
        "<table border=\"1\" class=\"dataframe\">\n",
        "  <thead>\n",
        "    <tr style=\"text-align: right;\">\n",
        "      <th></th>\n",
        "      <th>id</th>\n",
        "      <th>Date</th>\n",
        "      <th>Col_1</th>\n",
        "      <th>Col_2</th>\n",
        "      <th>Col_3</th>\n",
        "    </tr>\n",
        "  </thead>\n",
        "  <tbody>\n",
        "    <tr>\n",
        "      <th>0</th>\n",
        "      <td> 26</td>\n",
        "      <td> 2012-10-18</td>\n",
        "      <td> X</td>\n",
        "      <td> 25.70</td>\n",
        "      <td> 1</td>\n",
        "    </tr>\n",
        "    <tr>\n",
        "      <th>1</th>\n",
        "      <td> 63</td>\n",
        "      <td> 2012-10-20</td>\n",
        "      <td> Z</td>\n",
        "      <td>  5.73</td>\n",
        "      <td> 1</td>\n",
        "    </tr>\n",
        "  </tbody>\n",
        "</table>\n",
        "<p>2 rows \u00d7 5 columns</p>\n",
        "</div>"
       ],
       "metadata": {},
       "output_type": "pyout",
       "prompt_number": 24,
       "text": [
        "   id        Date Col_1  Col_2  Col_3\n",
        "0  26  2012-10-18     X  25.70      1\n",
        "1  63  2012-10-20     Z   5.73      1\n",
        "\n",
        "[2 rows x 5 columns]"
       ]
      }
     ],
     "prompt_number": 24
    },
    {
     "cell_type": "markdown",
     "metadata": {},
     "source": [
      "###Connecting to other kinds of database\n",
      "To connect to a MySQL database:"
     ]
    },
    {
     "cell_type": "code",
     "collapsed": false,
     "input": [
      "import MySQLdb\n",
      "con = MySQLdb.connect(host=\"localhost\", db=\"test\")\n"
     ],
     "language": "python",
     "metadata": {},
     "outputs": []
    },
    {
     "cell_type": "markdown",
     "metadata": {},
     "source": [
      "To connect to a PostgreSQL database:"
     ]
    },
    {
     "cell_type": "code",
     "collapsed": false,
     "input": [
      "import psycopg2\n",
      "con = psycopg2.connect(host=\"localhost\")\n"
     ],
     "language": "python",
     "metadata": {},
     "outputs": []
    },
    {
     "cell_type": "markdown",
     "metadata": {},
     "source": [
      "###Exercises\n",
      "\n",
      "Write an SQL query via Pandas to insert a new row into the sql table\n",
      "\n",
      "Write an SQL query via Pandas to drop a table from the sql table"
     ]
    }
   ],
   "metadata": {}
  }
 ]
}