{
 "metadata": {
  "name": "",
  "signature": "sha256:2c7cd62716d2e603bbf0b06f313625bde9824e19942a5d348b8c17aeb25496b7"
 },
 "nbformat": 3,
 "nbformat_minor": 0,
 "worksheets": [
  {
   "cells": [
    {
     "cell_type": "code",
     "collapsed": false,
     "input": [
      "!conda list\n",
      "!pip list"
     ],
     "language": "python",
     "metadata": {},
     "outputs": [
      {
       "output_type": "stream",
       "stream": "stdout",
       "text": [
        "# packages in environment at //anaconda:\r\n",
        "#\r\n"
       ]
      },
      {
       "output_type": "stream",
       "stream": "stdout",
       "text": [
        "_license                  1.1                      py27_0\r\n",
        "anaconda                  2.0.1                np18py27_0\r\n",
        "argcomplete               0.6.7                    py27_0\r\n",
        "astropy                   0.3.2                np18py27_0\r\n",
        "atom                      0.3.7                    py27_0\r\n",
        "autopy                    0.51                      <pip>\r\n",
        "backports.ssl-match-hostname 3.4.0.2                   <pip>\r\n",
        "beautiful-soup            4.3.1                    py27_0\r\n",
        "beautifulsoup4            4.3.2                     <pip>\r\n",
        "binstar                   0.5.3                    py27_0\r\n",
        "biopython                 1.61                      <pip>\r\n",
        "bitarray                  0.8.1                    py27_0\r\n",
        "blaze                     0.5.0                np18py27_1\r\n",
        "blz                       0.6.2                np18py27_0\r\n",
        "bokeh                     0.4.4                np18py27_1\r\n",
        "boto                      2.28.0                   py27_0\r\n",
        "casuarius                 1.1                      py27_0\r\n",
        "cdecimal                  2.3                      py27_0\r\n",
        "cffi                      0.8.6                    py27_0\r\n",
        "chaco                     4.4.1                np18py27_0\r\n",
        "colorama                  0.2.7                    py27_0\r\n",
        "conda                     3.7.0                    py27_0\r\n",
        "conda-build               1.3.5                    py27_0\r\n",
        "configobj                 5.0.5                    py27_0\r\n",
        "cryptography              0.5.4                    py27_0\r\n",
        "cssselect                 0.9.1                    py27_0\r\n",
        "cubes                     0.10.2                   py27_4\r\n",
        "curl                      7.30.0                        2\r\n",
        "cython                    0.20.1                   py27_0\r\n",
        "datashape                 0.2.0                np18py27_1\r\n",
        "dateutil                  2.1                      py27_2\r\n",
        "dirbot                    1.0                       <pip>\r\n",
        "distribute                0.6.36                    <pip>\r\n",
        "docutils                  0.11                     py27_0\r\n",
        "dynd-python               0.6.2                np18py27_0\r\n",
        "enable                    4.3.0                np18py27_2\r\n",
        "enaml                     0.9.1                    py27_1\r\n",
        "flask                     0.10.1                   py27_1\r\n",
        "freetype                  2.4.10                        1\r\n",
        "future                    0.12.1                   py27_0\r\n",
        "gevent                    1.0.1                    py27_0\r\n",
        "gevent-websocket          0.9.3                    py27_0\r\n",
        "gevent-zeromq             0.2.2                     <pip>\r\n",
        "greenlet                  0.4.2                    py27_0\r\n",
        "grin                      1.2.1                    py27_1\r\n",
        "h5py                      2.3.0                np18py27_0\r\n",
        "hdf5                      1.8.9                         2\r\n",
        "html5lib                  1.0b3                     <pip>\r\n",
        "ipython                   2.2.0                    py27_1\r\n",
        "ipython-notebook          2.2.0                    py27_0\r\n",
        "ipython-qtconsole         2.1.0                    py27_0\r\n",
        "itsdangerous              0.24                     py27_0\r\n",
        "jdcal                     1.0                      py27_0\r\n",
        "jinja2                    2.7.3                    py27_1\r\n",
        "jpeg                      8d                            1\r\n",
        "kiwisolver                0.1.2                    py27_0\r\n",
        "launcher                  0.1.5                    py27_0\r\n",
        "lcms                      1.19                          0\r\n",
        "libdynd                   0.6.2                         0\r\n",
        "libpng                    1.5.13                        1\r\n",
        "libsodium                 0.4.5                         0\r\n",
        "libtiff                   4.0.2                         0\r\n",
        "libxml2                   2.9.0                         1\r\n",
        "libxslt                   1.1.28                        2\r\n",
        "llvm                      3.3                           0\r\n",
        "llvmpy                    0.12.6                   py27_0\r\n",
        "lxml                      3.3.6                    py27_0\r\n",
        "markupsafe                0.18                     py27_0\r\n",
        "matplotlib                1.3.1                np18py27_1\r\n",
        "mdp                       3.3                       <pip>\r\n",
        "meta                      development               <pip>\r\n",
        "mock                      1.0.1                    py27_0\r\n",
        "multipledispatch          0.4.3                    py27_0\r\n",
        "netcdf4                   1.0.4                     <pip>\r\n",
        "networkx                  1.8.1                    py27_0\r\n",
        "nltk                      2.0.4                np18py27_0\r\n",
        "nose                      1.3.4                    py27_0\r\n",
        "numba                     0.13.2               np18py27_0\r\n",
        "numexpr                   2.3.1                np18py27_0\r\n",
        "numpy                     1.8.1                    py27_0\r\n",
        "openpyxl                  1.8.5                    py27_0\r\n",
        "openssl                   1.0.1h                        1\r\n",
        "pandas                    0.14.0               np18py27_0\r\n",
        "patsy                     0.2.1                np18py27_0\r\n",
        "pep8                      1.5.6                    py27_0\r\n",
        "pil                       1.1.7                    py27_1\r\n",
        "pillow                    2.5.3                     <pip>\r\n",
        "pip                       1.5.6                    py27_0\r\n",
        "ply                       3.4                      py27_0\r\n",
        "psutil                    2.1.1                    py27_0\r\n",
        "py                        1.4.20                   py27_0\r\n",
        "pyaudio                   0.2.7                    py27_0\r\n",
        "pycosat                   0.6.1                    py27_0\r\n",
        "pycparser                 2.10                     py27_0\r\n",
        "pycrypto                  2.6.1                    py27_0\r\n",
        "pycurl                    7.19.3.1                 py27_2\r\n",
        "pyface                    4.4.0                    py27_0\r\n",
        "pyflakes                  0.8.1                    py27_0\r\n",
        "pygments                  1.6                      py27_0\r\n",
        "pyopenssl                 0.14                     py27_0\r\n",
        "pyparsing                 2.0.1                    py27_0\r\n",
        "pypdf                     1.13                      <pip>\r\n",
        "pypdf2                    1.23                      <pip>\r\n",
        "pyqt                      4.10.4                   py27_0\r\n",
        "pyquery                   1.2.8                     <pip>\r\n",
        "pysal                     1.5.0                     <pip>\r\n",
        "pysam                     0.6                       <pip>\r\n",
        "pytables                  3.1.1                np18py27_0\r\n",
        "pytest                    2.5.2                    py27_0\r\n",
        "python                    2.7.8                         1\r\n",
        "python-dateutil           1.5                       <pip>\r\n",
        "python.app                1.2                      py27_3\r\n",
        "pytz                      2014.3                   py27_0\r\n",
        "pyyaml                    3.11                     py27_0\r\n",
        "pyzmq                     14.3.1                   py27_0\r\n",
        "qt                        4.8.5                         3\r\n",
        "queuelib                  1.2.2                    py27_0\r\n",
        "readline                  6.2                           2\r\n",
        "redis                     2.6.9                         0\r\n",
        "redis-py                  2.9.1                    py27_0\r\n",
        "reportlab                 3.1.8                     <pip>\r\n",
        "requests                  2.4.1                    py27_0\r\n",
        "responses                 0.2.2                     <pip>\r\n",
        "rope                      0.9.4                    py27_1\r\n",
        "runipy                    0.1.0                    py27_0\r\n",
        "scikit-image              0.10.0               np18py27_0\r\n",
        "scikit-learn              0.14.1               np18py27_1\r\n",
        "scipy                     0.14.0               np18py27_0\r\n",
        "scrapy                    0.24.4                   py27_0\r\n",
        "selenium                  2.43.0                    <pip>\r\n",
        "setuptools                5.7                      py27_1\r\n",
        "sip                       4.15.5                   py27_0\r\n",
        "six                       1.7.3                    py27_0\r\n",
        "sphinx                    1.2.2                    py27_0\r\n",
        "spyder                    2.3.0rc1                 py27_0\r\n",
        "spyder-app                2.3.0rc1                 py27_0\r\n",
        "spynner                   2.19                      <pip>\r\n",
        "sqlalchemy                0.9.4                    py27_0\r\n",
        "sqlite                    3.8.4.1                       0\r\n",
        "ssl_match_hostname        3.4.0.2                  py27_0\r\n",
        "statsmodels               0.5.0                np18py27_0\r\n",
        "sympy                     0.7.5                    py27_0\r\n",
        "tables                    3.1.1                     <pip>\r\n",
        "termcolor                 1.1.0                     <pip>\r\n",
        "tk                        8.5.15                        0\r\n",
        "tornado                   4.0.1                    py27_0\r\n",
        "traits                    4.4.0                    py27_0\r\n",
        "traitsui                  4.4.0                    py27_0\r\n",
        "twisted                   14.0.0                   py27_0\r\n",
        "ujson                     1.33                     py27_0\r\n",
        "unittest2                 0.5.1                     <pip>\r\n",
        "w3lib                     1.8.1                    py27_1\r\n",
        "webkit2png                0.8.2                     <pip>\r\n",
        "werkzeug                  0.9.6                    py27_0\r\n",
        "wsgiref                   0.1.2                     <pip>\r\n",
        "xhtml2pdf                 0.0.6                     <pip>\r\n",
        "xlrd                      0.9.3                    py27_0\r\n",
        "xlsxwriter                0.5.5                    py27_0\r\n",
        "xlwt                      0.7.5                    py27_0\r\n",
        "yaml                      0.1.4                         1\r\n",
        "zeromq                    4.0.4                         0\r\n",
        "zlib                      1.2.7                         1\r\n",
        "zope.interface            4.1.1                    py27_0\r\n",
        "zss                       1.1                       <pip>\r\n"
       ]
      },
      {
       "output_type": "stream",
       "stream": "stdout",
       "text": [
        "argcomplete (0.6.7)\r\n",
        "astropy (0.3.2)\r\n",
        "atom (0.3.7)\r\n",
        "autopy (0.51)\r\n",
        "backports.ssl-match-hostname (3.4.0.2)\r\n",
        "beautifulsoup4 (4.3.2)\r\n",
        "binstar (0.5.3)\r\n",
        "biopython (1.61)\r\n",
        "bitarray (0.8.1)\r\n",
        "blaze (0.5)\r\n",
        "blz (0.6.2)\r\n",
        "bokeh (0.4.4)\r\n",
        "boto (2.28.0)\r\n",
        "casuarius (1.1)\r\n",
        "cdecimal (2.3)\r\n",
        "cffi (0.8.6)\r\n",
        "chaco (4.4.1)\r\n",
        "colorama (0.2.7)\r\n",
        "conda (3.7.0)\r\n",
        "conda-build (1.3.5)\r\n",
        "configobj (5.0.5)\r\n",
        "cryptography (0.5.4)\r\n",
        "cssselect (0.9.1)\r\n",
        "cubes (0.10.2)\r\n",
        "Cython (0.20.2)\r\n",
        "DataShape (0.2)\r\n",
        "dirbot (1.0)\r\n",
        "distribute (0.6.36)\r\n",
        "docutils (0.11)\r\n",
        "enable (4.3.0)\r\n",
        "enaml (0.9.1)\r\n",
        "Flask (0.10.1)\r\n",
        "future (0.12.1)\r\n",
        "gevent (1.0.1)\r\n",
        "gevent-websocket (0.9.3)\r\n",
        "gevent-zeromq (0.2.2)\r\n",
        "greenlet (0.4.2)\r\n",
        "grin (1.2.1)\r\n",
        "h5py (2.3.0)\r\n",
        "html5lib (1.0b3)\r\n",
        "ipython (2.2.0)\r\n",
        "itsdangerous (0.24)\r\n",
        "jdcal (1.0)\r\n",
        "Jinja2 (2.7.3)\r\n",
        "kiwisolver (0.1.2)\r\n",
        "llvmpy (0.12.6)\r\n",
        "lxml (3.3.6)\r\n",
        "MarkupSafe (0.18)\r\n",
        "matplotlib (1.3.1)\r\n",
        "MDP (3.3)\r\n",
        "meta (development)\r\n",
        "mock (1.0.1)\r\n",
        "multipledispatch (0.4.3)\r\n",
        "netCDF4 (1.0.4)\r\n",
        "networkx (1.8.1)\r\n",
        "nltk (2.0.4)\r\n",
        "nose (1.3.4)\r\n",
        "numba (0.13.2)\r\n",
        "numexpr (2.3.1)\r\n",
        "numpy (1.8.1)\r\n",
        "openpyxl (1.8.5)\r\n",
        "pandas (0.14.0)\r\n",
        "patsy (0.2.1)\r\n",
        "pep8 (1.5.6)\r\n",
        "PIL (1.1.7)\r\n",
        "Pillow (2.5.3)\r\n",
        "pip (1.5.6)\r\n",
        "ply (3.4)\r\n",
        "psutil (2.1.1)\r\n",
        "py (1.4.20)\r\n",
        "PyAudio (0.2.7)\r\n",
        "pycosat (0.6.1)\r\n",
        "pycparser (2.10)\r\n",
        "pycrypto (2.6.1)\r\n",
        "pycurl (7.19.3.1)\r\n",
        "pyface (4.4.0)\r\n",
        "pyflakes (0.8.1)\r\n",
        "Pygments (1.6)\r\n",
        "pyOpenSSL (0.14)\r\n",
        "pyparsing (2.0.1)\r\n",
        "pyPdf (1.13)\r\n",
        "PyPDF2 (1.23)\r\n",
        "pyquery (1.2.8)\r\n",
        "PySAL (1.5.0)\r\n",
        "pysam (0.6)\r\n",
        "pytest (2.5.2)\r\n",
        "python-dateutil (1.5)\r\n",
        "pytz (2014.3)\r\n",
        "PyYAML (3.11)\r\n",
        "pyzmq (14.3.1)\r\n",
        "queuelib (1.2.2)\r\n",
        "redis (2.9.1)\r\n",
        "reportlab (3.1.8)\r\n",
        "requests (2.4.1)\r\n",
        "responses (0.2.2)\r\n",
        "rope (0.9.4)\r\n",
        "runipy (0.1.0)\r\n",
        "scikit-image (0.10.0)\r\n",
        "scikit-learn (0.14.1)\r\n",
        "scipy (0.14.0)\r\n",
        "Scrapy (0.24.4)\r\n",
        "selenium (2.43.0)\r\n",
        "setuptools (5.7)\r\n",
        "six (1.7.3)\r\n",
        "Sphinx (1.2.2)\r\n",
        "spyder (2.3.0rc)\r\n",
        "spynner (2.19)\r\n",
        "SQLAlchemy (0.9.7)\r\n",
        "statsmodels (0.5.0)\r\n",
        "sympy (0.7.5)\r\n",
        "tables (3.1.1)\r\n",
        "termcolor (1.1.0)\r\n",
        "tornado (4.0.1)\r\n",
        "traits (4.4.0)\r\n",
        "traitsui (4.4.0)\r\n",
        "Twisted (14.0.0)\r\n",
        "ujson (1.33)\r\n",
        "unittest2 (0.5.1)\r\n",
        "w3lib (1.8.0)\r\n",
        "webkit2png (0.8.2)\r\n",
        "Werkzeug (0.9.6)\r\n",
        "wsgiref (0.1.2)\r\n",
        "xhtml2pdf (0.0.6)\r\n",
        "xlrd (0.9.3)\r\n",
        "XlsxWriter (0.5.5)\r\n",
        "xlwt (0.7.5)\r\n",
        "zope.interface (4.1.1)\r\n",
        "zss (1.1)\r\n"
       ]
      }
     ],
     "prompt_number": 2
    },
    {
     "cell_type": "code",
     "collapsed": false,
     "input": [
      "import tables\n",
      "tables?"
     ],
     "language": "python",
     "metadata": {},
     "outputs": [],
     "prompt_number": 3
    },
    {
     "cell_type": "code",
     "collapsed": false,
     "input": [
      "from matplotlib.backends.backend_pdf import PdfPages\n",
      "from scipy.special import erf,erfinv\n",
      "import time\n",
      "\n",
      "def PlotTime(Tsorted,Mean,Std,Color='b',LS='-',Legend=''):\n",
      "    \"\"\" plot distribution of times on a log-log scale\"\"\"\n",
      "    P=arange(1,0,-1.0/k)    # probability \n",
      "    loglog(Tsorted,P,color=Color,label=Legend,linestyle=LS)                 # plot log-log of 1-CDF \n",
      "    \n",
      "    grid()\n",
      "    loglog([Mean,Mean],[1,0.0001],color=Color,linestyle=LS)           # vert line at mean\n",
      "    Y=0.1**((m_i+1.)/2.)\n",
      "    loglog([Mean,min(Mean+Std,1)],[Y,Y],color=Color,linestyle=LS) # horiz line from mean to mean + std\n",
      "        \n",
      "    x=arange(Mean,Mean+Std*erfinv(1.0-1.0/len(Tsorted)),Std/100)  # normal distribution \n",
      "    loglog(x,1-erf((x-Mean)/Std),color=Color,linestyle=LS)"
     ],
     "language": "python",
     "metadata": {},
     "outputs": [],
     "prompt_number": 1
    },
    {
     "cell_type": "code",
     "collapsed": false,
     "input": [
      "n=1000000 # size of single block (1MB)\n",
      "m_list=[1,10,100,1000] #,10000] # size of file in blocks\n",
      "m=None\n",
      "k=100000;\n",
      "L=len(m_list)\n",
      "#print 'n=%d, m=%d,k=%d, m_list=' % (n,m,k),m_list\n",
      "\n",
      "from os.path import isfile,isdir\n",
      "from os import mkdir\n",
      "import os\n",
      "root=os.environ['HOME']\n",
      "log_root=root+'/logs'\n",
      "if not isdir(log_root): mkdir(log_root)\n",
      "TimeStamp=str(int(time.time()))\n",
      "log_dir=log_root+'/'+TimeStamp\n",
      "mkdir(log_dir)\n",
      "%cd $log_dir\n",
      "stat=open('stats.txt','w')\n",
      "\n",
      "def tee(line):\n",
      "    print line\n",
      "    stat.write(line+'\\n')"
     ],
     "language": "python",
     "metadata": {},
     "outputs": [
      {
       "output_type": "stream",
       "stream": "stdout",
       "text": [
        "/Users/yoavfreund/logs/1413332172\n"
       ]
      }
     ],
     "prompt_number": 2
    },
    {
     "cell_type": "code",
     "collapsed": false,
     "input": [
      "!ls -lh"
     ],
     "language": "python",
     "metadata": {},
     "outputs": [
      {
       "output_type": "stream",
       "stream": "stdout",
       "text": [
        "total 0\r\n",
        "-rw-r--r--  1 yoavfreund  503     0B Oct 14 17:16 stats.txt\r\n"
       ]
      }
     ],
     "prompt_number": 3
    },
    {
     "cell_type": "code",
     "collapsed": false,
     "input": [
      "def create_file(n,m,filename='DataBlock'):\n",
      "    t1=time.time()\n",
      "    A=bytearray(n)\n",
      "    t2=time.time()\n",
      "    file=open(filename,'wb')\n",
      "    for i in range(m):\n",
      "        file.write(A)\n",
      "        if i % 100 == 0:\n",
      "            print i,\",\",\n",
      "    file.close()\n",
      "    t3=time.time()\n",
      "    tee('\\ncreating %d byte block: %f sec, writing %d blocks %f sec' % (n,t2-t1,m,t3-t2))\n",
      "    return (t2-t1,t3-t2)\n",
      "\n"
     ],
     "language": "python",
     "metadata": {},
     "outputs": [],
     "prompt_number": 11
    },
    {
     "cell_type": "code",
     "collapsed": false,
     "input": [
      "import io\n",
      "def create_io_file(n,m,filename='DataBlock'):\n",
      "    t1=time.time()\n",
      "    A=bytearray(n)\n",
      "    t2=time.time()\n",
      "    file=io.open(filename,'wb')\n",
      "    for i in range(m):\n",
      "        file.write(A)\n",
      "        if i % 100 == 0:\n",
      "            print i,\",\",\n",
      "    file.close()\n",
      "    t3=time.time()\n",
      "    tee('\\ncreating %d byte block: %f sec, writing %d blocks %f sec' % (n,t2-t1,m,t3-t2))\n",
      "    return (t2-t1,t3-t2)\n",
      "\n",
      "for m in [1,10,100,1000,10000]:\n",
      "    create_io_file(n,m,'BufIO'+str(m))\n",
      "    create_file(n,m,'BufIO'+str(m))"
     ],
     "language": "python",
     "metadata": {},
     "outputs": [
      {
       "output_type": "stream",
       "stream": "stdout",
       "text": [
        "0 , \n",
        "creating 1000000 byte block: 0.000321 sec, writing 1 blocks 0.000896 sec\n",
        "0 , \n",
        "creating 1000000 byte block: 0.000045 sec, writing 1 blocks 0.004565 sec\n",
        "0 , \n",
        "creating 1000000 byte block: 0.000083 sec, writing 10 blocks 0.009087 sec\n",
        "0 , \n",
        "creating 1000000 byte block: 0.000088 sec, writing 10 blocks 0.035010 sec\n",
        "0"
       ]
      },
      {
       "output_type": "stream",
       "stream": "stdout",
       "text": [
        " , "
       ]
      },
      {
       "output_type": "stream",
       "stream": "stdout",
       "text": [
        "\n",
        "creating 1000000 byte block: 0.000063 sec, writing 100 blocks 0.235012 sec\n",
        "0 , "
       ]
      },
      {
       "output_type": "stream",
       "stream": "stdout",
       "text": [
        "\n",
        "creating 1000000 byte block: 0.000034 sec, writing 100 blocks 0.359765 sec\n",
        "0 , "
       ]
      },
      {
       "output_type": "stream",
       "stream": "stdout",
       "text": [
        "100 , "
       ]
      },
      {
       "output_type": "stream",
       "stream": "stdout",
       "text": [
        "200 , "
       ]
      },
      {
       "output_type": "stream",
       "stream": "stdout",
       "text": [
        "300 , "
       ]
      },
      {
       "output_type": "stream",
       "stream": "stdout",
       "text": [
        "400 , "
       ]
      },
      {
       "output_type": "stream",
       "stream": "stdout",
       "text": [
        "500 , "
       ]
      },
      {
       "output_type": "stream",
       "stream": "stdout",
       "text": [
        "600 , "
       ]
      },
      {
       "output_type": "stream",
       "stream": "stdout",
       "text": [
        "700 , "
       ]
      },
      {
       "output_type": "stream",
       "stream": "stdout",
       "text": [
        "800 , "
       ]
      },
      {
       "output_type": "stream",
       "stream": "stdout",
       "text": [
        "900 , "
       ]
      },
      {
       "output_type": "stream",
       "stream": "stdout",
       "text": [
        "\n",
        "creating 1000000 byte block: 0.000035 sec, writing 1000 blocks 3.039735 sec\n",
        "0"
       ]
      },
      {
       "output_type": "stream",
       "stream": "stdout",
       "text": [
        " , "
       ]
      },
      {
       "output_type": "stream",
       "stream": "stdout",
       "text": [
        "100 , "
       ]
      },
      {
       "output_type": "stream",
       "stream": "stdout",
       "text": [
        "200 , "
       ]
      },
      {
       "output_type": "stream",
       "stream": "stdout",
       "text": [
        "300 , "
       ]
      },
      {
       "output_type": "stream",
       "stream": "stdout",
       "text": [
        "400 , "
       ]
      },
      {
       "output_type": "stream",
       "stream": "stdout",
       "text": [
        "500 , "
       ]
      },
      {
       "output_type": "stream",
       "stream": "stdout",
       "text": [
        "600 , "
       ]
      },
      {
       "output_type": "stream",
       "stream": "stdout",
       "text": [
        "700 , "
       ]
      },
      {
       "output_type": "stream",
       "stream": "stdout",
       "text": [
        "800 , "
       ]
      },
      {
       "output_type": "stream",
       "stream": "stdout",
       "text": [
        "900 , "
       ]
      },
      {
       "output_type": "stream",
       "stream": "stdout",
       "text": [
        "\n",
        "creating 1000000 byte block: 0.000051 sec, writing 1000 blocks 3.103007 sec\n",
        "0 , "
       ]
      },
      {
       "output_type": "stream",
       "stream": "stdout",
       "text": [
        "100 , "
       ]
      },
      {
       "output_type": "stream",
       "stream": "stdout",
       "text": [
        "200 , "
       ]
      },
      {
       "output_type": "stream",
       "stream": "stdout",
       "text": [
        "300 , "
       ]
      },
      {
       "output_type": "stream",
       "stream": "stdout",
       "text": [
        "400 , "
       ]
      },
      {
       "output_type": "stream",
       "stream": "stdout",
       "text": [
        "500 , "
       ]
      },
      {
       "output_type": "stream",
       "stream": "stdout",
       "text": [
        "600 , "
       ]
      },
      {
       "output_type": "stream",
       "stream": "stdout",
       "text": [
        "700 , "
       ]
      },
      {
       "output_type": "stream",
       "stream": "stdout",
       "text": [
        "800 , "
       ]
      },
      {
       "output_type": "stream",
       "stream": "stdout",
       "text": [
        "900 , "
       ]
      },
      {
       "output_type": "stream",
       "stream": "stdout",
       "text": [
        "1000 , "
       ]
      },
      {
       "output_type": "stream",
       "stream": "stdout",
       "text": [
        "1100 , "
       ]
      },
      {
       "output_type": "stream",
       "stream": "stdout",
       "text": [
        "1200 , "
       ]
      },
      {
       "output_type": "stream",
       "stream": "stdout",
       "text": [
        "1300 , "
       ]
      },
      {
       "output_type": "stream",
       "stream": "stdout",
       "text": [
        "1400 , "
       ]
      },
      {
       "output_type": "stream",
       "stream": "stdout",
       "text": [
        "1500 , "
       ]
      },
      {
       "output_type": "stream",
       "stream": "stdout",
       "text": [
        "1600 , "
       ]
      },
      {
       "output_type": "stream",
       "stream": "stdout",
       "text": [
        "1700 , "
       ]
      },
      {
       "output_type": "stream",
       "stream": "stdout",
       "text": [
        "1800 , "
       ]
      },
      {
       "output_type": "stream",
       "stream": "stdout",
       "text": [
        "1900 , "
       ]
      },
      {
       "output_type": "stream",
       "stream": "stdout",
       "text": [
        "2000 , "
       ]
      },
      {
       "output_type": "stream",
       "stream": "stdout",
       "text": [
        "2100 , "
       ]
      },
      {
       "output_type": "stream",
       "stream": "stdout",
       "text": [
        "2200 , "
       ]
      },
      {
       "output_type": "stream",
       "stream": "stdout",
       "text": [
        "2300 , "
       ]
      },
      {
       "output_type": "stream",
       "stream": "stdout",
       "text": [
        "2400 , "
       ]
      },
      {
       "output_type": "stream",
       "stream": "stdout",
       "text": [
        "2500 , "
       ]
      },
      {
       "output_type": "stream",
       "stream": "stdout",
       "text": [
        "2600 , "
       ]
      },
      {
       "output_type": "stream",
       "stream": "stdout",
       "text": [
        "2700 , "
       ]
      },
      {
       "output_type": "stream",
       "stream": "stdout",
       "text": [
        "2800 , "
       ]
      },
      {
       "output_type": "stream",
       "stream": "stdout",
       "text": [
        "2900 , "
       ]
      },
      {
       "output_type": "stream",
       "stream": "stdout",
       "text": [
        "3000 , "
       ]
      },
      {
       "output_type": "stream",
       "stream": "stdout",
       "text": [
        "3100 , "
       ]
      },
      {
       "output_type": "stream",
       "stream": "stdout",
       "text": [
        "3200 , "
       ]
      },
      {
       "output_type": "stream",
       "stream": "stdout",
       "text": [
        "3300 , "
       ]
      },
      {
       "output_type": "stream",
       "stream": "stdout",
       "text": [
        "3400 , "
       ]
      },
      {
       "output_type": "stream",
       "stream": "stdout",
       "text": [
        "3500 , "
       ]
      },
      {
       "output_type": "stream",
       "stream": "stdout",
       "text": [
        "3600 , "
       ]
      },
      {
       "output_type": "stream",
       "stream": "stdout",
       "text": [
        "3700 , "
       ]
      },
      {
       "output_type": "stream",
       "stream": "stdout",
       "text": [
        "3800 , "
       ]
      },
      {
       "output_type": "stream",
       "stream": "stdout",
       "text": [
        "3900 , "
       ]
      },
      {
       "output_type": "stream",
       "stream": "stdout",
       "text": [
        "4000 , "
       ]
      },
      {
       "output_type": "stream",
       "stream": "stdout",
       "text": [
        "4100 , "
       ]
      },
      {
       "output_type": "stream",
       "stream": "stdout",
       "text": [
        "4200 , "
       ]
      },
      {
       "output_type": "stream",
       "stream": "stdout",
       "text": [
        "4300 , "
       ]
      },
      {
       "output_type": "stream",
       "stream": "stdout",
       "text": [
        "4400 , "
       ]
      },
      {
       "output_type": "stream",
       "stream": "stdout",
       "text": [
        "4500 , "
       ]
      },
      {
       "output_type": "stream",
       "stream": "stdout",
       "text": [
        "4600 , "
       ]
      },
      {
       "output_type": "stream",
       "stream": "stdout",
       "text": [
        "4700 , "
       ]
      },
      {
       "output_type": "stream",
       "stream": "stdout",
       "text": [
        "4800 , "
       ]
      },
      {
       "output_type": "stream",
       "stream": "stdout",
       "text": [
        "4900 , "
       ]
      },
      {
       "output_type": "stream",
       "stream": "stdout",
       "text": [
        "5000 , "
       ]
      },
      {
       "output_type": "stream",
       "stream": "stdout",
       "text": [
        "5100 , "
       ]
      },
      {
       "output_type": "stream",
       "stream": "stdout",
       "text": [
        "5200 , "
       ]
      },
      {
       "output_type": "stream",
       "stream": "stdout",
       "text": [
        "5300 , "
       ]
      },
      {
       "output_type": "stream",
       "stream": "stdout",
       "text": [
        "5400 , "
       ]
      },
      {
       "output_type": "stream",
       "stream": "stdout",
       "text": [
        "5500 , "
       ]
      },
      {
       "output_type": "stream",
       "stream": "stdout",
       "text": [
        "5600 , "
       ]
      },
      {
       "output_type": "stream",
       "stream": "stdout",
       "text": [
        "5700 , "
       ]
      },
      {
       "output_type": "stream",
       "stream": "stdout",
       "text": [
        "5800 , "
       ]
      },
      {
       "output_type": "stream",
       "stream": "stdout",
       "text": [
        "5900 , "
       ]
      },
      {
       "output_type": "stream",
       "stream": "stdout",
       "text": [
        "6000 , "
       ]
      },
      {
       "output_type": "stream",
       "stream": "stdout",
       "text": [
        "6100 , "
       ]
      },
      {
       "output_type": "stream",
       "stream": "stdout",
       "text": [
        "6200 , "
       ]
      },
      {
       "output_type": "stream",
       "stream": "stdout",
       "text": [
        "6300 , "
       ]
      },
      {
       "output_type": "stream",
       "stream": "stdout",
       "text": [
        "6400 , "
       ]
      },
      {
       "output_type": "stream",
       "stream": "stdout",
       "text": [
        "6500 , "
       ]
      },
      {
       "output_type": "stream",
       "stream": "stdout",
       "text": [
        "6600 , "
       ]
      },
      {
       "output_type": "stream",
       "stream": "stdout",
       "text": [
        "6700 , "
       ]
      },
      {
       "output_type": "stream",
       "stream": "stdout",
       "text": [
        "6800 , "
       ]
      },
      {
       "output_type": "stream",
       "stream": "stdout",
       "text": [
        "6900 , "
       ]
      },
      {
       "output_type": "stream",
       "stream": "stdout",
       "text": [
        "7000 , "
       ]
      },
      {
       "output_type": "stream",
       "stream": "stdout",
       "text": [
        "7100 , "
       ]
      },
      {
       "output_type": "stream",
       "stream": "stdout",
       "text": [
        "7200 , "
       ]
      },
      {
       "output_type": "stream",
       "stream": "stdout",
       "text": [
        "7300 , "
       ]
      },
      {
       "output_type": "stream",
       "stream": "stdout",
       "text": [
        "7400 , "
       ]
      },
      {
       "output_type": "stream",
       "stream": "stdout",
       "text": [
        "7500 , "
       ]
      },
      {
       "output_type": "stream",
       "stream": "stdout",
       "text": [
        "7600 , "
       ]
      },
      {
       "output_type": "stream",
       "stream": "stdout",
       "text": [
        "7700 , "
       ]
      },
      {
       "output_type": "stream",
       "stream": "stdout",
       "text": [
        "7800 , "
       ]
      },
      {
       "output_type": "stream",
       "stream": "stdout",
       "text": [
        "7900 , "
       ]
      },
      {
       "output_type": "stream",
       "stream": "stdout",
       "text": [
        "8000 , "
       ]
      },
      {
       "output_type": "stream",
       "stream": "stdout",
       "text": [
        "8100 , "
       ]
      },
      {
       "output_type": "stream",
       "stream": "stdout",
       "text": [
        "8200 , "
       ]
      },
      {
       "output_type": "stream",
       "stream": "stdout",
       "text": [
        "8300 , "
       ]
      },
      {
       "output_type": "stream",
       "stream": "stdout",
       "text": [
        "8400 , "
       ]
      },
      {
       "output_type": "stream",
       "stream": "stdout",
       "text": [
        "8500 , "
       ]
      },
      {
       "output_type": "stream",
       "stream": "stdout",
       "text": [
        "8600 , "
       ]
      },
      {
       "output_type": "stream",
       "stream": "stdout",
       "text": [
        "8700 , "
       ]
      },
      {
       "output_type": "stream",
       "stream": "stdout",
       "text": [
        "8800 , "
       ]
      },
      {
       "output_type": "stream",
       "stream": "stdout",
       "text": [
        "8900 , "
       ]
      },
      {
       "output_type": "stream",
       "stream": "stdout",
       "text": [
        "9000 , "
       ]
      },
      {
       "output_type": "stream",
       "stream": "stdout",
       "text": [
        "9100 , "
       ]
      },
      {
       "output_type": "stream",
       "stream": "stdout",
       "text": [
        "9200 , "
       ]
      },
      {
       "output_type": "stream",
       "stream": "stdout",
       "text": [
        "9300 , "
       ]
      },
      {
       "output_type": "stream",
       "stream": "stdout",
       "text": [
        "9400 , "
       ]
      },
      {
       "output_type": "stream",
       "stream": "stdout",
       "text": [
        "9500 , "
       ]
      },
      {
       "output_type": "stream",
       "stream": "stdout",
       "text": [
        "9600 , "
       ]
      },
      {
       "output_type": "stream",
       "stream": "stdout",
       "text": [
        "9700 , "
       ]
      },
      {
       "output_type": "stream",
       "stream": "stdout",
       "text": [
        "9800 , "
       ]
      },
      {
       "output_type": "stream",
       "stream": "stdout",
       "text": [
        "9900 , "
       ]
      },
      {
       "output_type": "stream",
       "stream": "stdout",
       "text": [
        "\n",
        "creating 1000000 byte block: 0.000044 sec, writing 10000 blocks 32.384664 sec\n",
        "0"
       ]
      },
      {
       "output_type": "stream",
       "stream": "stdout",
       "text": [
        " , "
       ]
      },
      {
       "output_type": "stream",
       "stream": "stdout",
       "text": [
        "100 , "
       ]
      },
      {
       "output_type": "stream",
       "stream": "stdout",
       "text": [
        "200 , "
       ]
      },
      {
       "output_type": "stream",
       "stream": "stdout",
       "text": [
        "300 , "
       ]
      },
      {
       "output_type": "stream",
       "stream": "stdout",
       "text": [
        "400 , "
       ]
      },
      {
       "output_type": "stream",
       "stream": "stdout",
       "text": [
        "500 , "
       ]
      },
      {
       "output_type": "stream",
       "stream": "stdout",
       "text": [
        "600 , "
       ]
      },
      {
       "output_type": "stream",
       "stream": "stdout",
       "text": [
        "700 , "
       ]
      },
      {
       "output_type": "stream",
       "stream": "stdout",
       "text": [
        "800 , "
       ]
      },
      {
       "output_type": "stream",
       "stream": "stdout",
       "text": [
        "900 , "
       ]
      },
      {
       "output_type": "stream",
       "stream": "stdout",
       "text": [
        "1000 , "
       ]
      },
      {
       "output_type": "stream",
       "stream": "stdout",
       "text": [
        "1100 , "
       ]
      },
      {
       "output_type": "stream",
       "stream": "stdout",
       "text": [
        "1200 , "
       ]
      },
      {
       "output_type": "stream",
       "stream": "stdout",
       "text": [
        "1300 , "
       ]
      },
      {
       "output_type": "stream",
       "stream": "stdout",
       "text": [
        "1400 , "
       ]
      },
      {
       "output_type": "stream",
       "stream": "stdout",
       "text": [
        "1500 , "
       ]
      },
      {
       "output_type": "stream",
       "stream": "stdout",
       "text": [
        "1600 , "
       ]
      },
      {
       "output_type": "stream",
       "stream": "stdout",
       "text": [
        "1700 , "
       ]
      },
      {
       "output_type": "stream",
       "stream": "stdout",
       "text": [
        "1800 , "
       ]
      },
      {
       "output_type": "stream",
       "stream": "stdout",
       "text": [
        "1900 , "
       ]
      },
      {
       "output_type": "stream",
       "stream": "stdout",
       "text": [
        "2000 , "
       ]
      },
      {
       "output_type": "stream",
       "stream": "stdout",
       "text": [
        "2100 , "
       ]
      },
      {
       "output_type": "stream",
       "stream": "stdout",
       "text": [
        "2200 , "
       ]
      },
      {
       "output_type": "stream",
       "stream": "stdout",
       "text": [
        "2300 , "
       ]
      },
      {
       "output_type": "stream",
       "stream": "stdout",
       "text": [
        "2400 , "
       ]
      },
      {
       "output_type": "stream",
       "stream": "stdout",
       "text": [
        "2500 , "
       ]
      },
      {
       "output_type": "stream",
       "stream": "stdout",
       "text": [
        "2600 , "
       ]
      },
      {
       "output_type": "stream",
       "stream": "stdout",
       "text": [
        "2700 , "
       ]
      },
      {
       "output_type": "stream",
       "stream": "stdout",
       "text": [
        "2800 , "
       ]
      },
      {
       "output_type": "stream",
       "stream": "stdout",
       "text": [
        "2900 , "
       ]
      },
      {
       "output_type": "stream",
       "stream": "stdout",
       "text": [
        "3000 , "
       ]
      },
      {
       "output_type": "stream",
       "stream": "stdout",
       "text": [
        "3100 , "
       ]
      },
      {
       "output_type": "stream",
       "stream": "stdout",
       "text": [
        "3200 , "
       ]
      },
      {
       "output_type": "stream",
       "stream": "stdout",
       "text": [
        "3300 , "
       ]
      },
      {
       "output_type": "stream",
       "stream": "stdout",
       "text": [
        "3400 , "
       ]
      },
      {
       "output_type": "stream",
       "stream": "stdout",
       "text": [
        "3500 , "
       ]
      },
      {
       "output_type": "stream",
       "stream": "stdout",
       "text": [
        "3600 , "
       ]
      },
      {
       "output_type": "stream",
       "stream": "stdout",
       "text": [
        "3700 , "
       ]
      },
      {
       "output_type": "stream",
       "stream": "stdout",
       "text": [
        "3800 , "
       ]
      },
      {
       "output_type": "stream",
       "stream": "stdout",
       "text": [
        "3900 , "
       ]
      },
      {
       "output_type": "stream",
       "stream": "stdout",
       "text": [
        "4000 , "
       ]
      },
      {
       "output_type": "stream",
       "stream": "stdout",
       "text": [
        "4100 , "
       ]
      },
      {
       "output_type": "stream",
       "stream": "stdout",
       "text": [
        "4200 , "
       ]
      },
      {
       "output_type": "stream",
       "stream": "stdout",
       "text": [
        "4300 , "
       ]
      },
      {
       "output_type": "stream",
       "stream": "stdout",
       "text": [
        "4400 , "
       ]
      },
      {
       "output_type": "stream",
       "stream": "stdout",
       "text": [
        "4500 , "
       ]
      },
      {
       "output_type": "stream",
       "stream": "stdout",
       "text": [
        "4600 , "
       ]
      },
      {
       "output_type": "stream",
       "stream": "stdout",
       "text": [
        "4700 , "
       ]
      },
      {
       "output_type": "stream",
       "stream": "stdout",
       "text": [
        "4800 , "
       ]
      },
      {
       "output_type": "stream",
       "stream": "stdout",
       "text": [
        "4900 , "
       ]
      },
      {
       "output_type": "stream",
       "stream": "stdout",
       "text": [
        "5000 , "
       ]
      },
      {
       "output_type": "stream",
       "stream": "stdout",
       "text": [
        "5100 , "
       ]
      },
      {
       "output_type": "stream",
       "stream": "stdout",
       "text": [
        "5200 , "
       ]
      },
      {
       "output_type": "stream",
       "stream": "stdout",
       "text": [
        "5300 , "
       ]
      },
      {
       "output_type": "stream",
       "stream": "stdout",
       "text": [
        "5400 , "
       ]
      },
      {
       "output_type": "stream",
       "stream": "stdout",
       "text": [
        "5500 , "
       ]
      },
      {
       "output_type": "stream",
       "stream": "stdout",
       "text": [
        "5600 , "
       ]
      },
      {
       "output_type": "stream",
       "stream": "stdout",
       "text": [
        "5700 , "
       ]
      },
      {
       "output_type": "stream",
       "stream": "stdout",
       "text": [
        "5800 , "
       ]
      },
      {
       "output_type": "stream",
       "stream": "stdout",
       "text": [
        "5900 , "
       ]
      },
      {
       "output_type": "stream",
       "stream": "stdout",
       "text": [
        "6000 , "
       ]
      },
      {
       "output_type": "stream",
       "stream": "stdout",
       "text": [
        "6100 , "
       ]
      },
      {
       "output_type": "stream",
       "stream": "stdout",
       "text": [
        "6200 , "
       ]
      },
      {
       "output_type": "stream",
       "stream": "stdout",
       "text": [
        "6300 , "
       ]
      },
      {
       "output_type": "stream",
       "stream": "stdout",
       "text": [
        "6400 , "
       ]
      },
      {
       "output_type": "stream",
       "stream": "stdout",
       "text": [
        "6500 , "
       ]
      },
      {
       "output_type": "stream",
       "stream": "stdout",
       "text": [
        "6600 , "
       ]
      },
      {
       "output_type": "stream",
       "stream": "stdout",
       "text": [
        "6700 , "
       ]
      },
      {
       "output_type": "stream",
       "stream": "stdout",
       "text": [
        "6800 , "
       ]
      },
      {
       "output_type": "stream",
       "stream": "stdout",
       "text": [
        "6900 , "
       ]
      },
      {
       "output_type": "stream",
       "stream": "stdout",
       "text": [
        "7000 , "
       ]
      },
      {
       "output_type": "stream",
       "stream": "stdout",
       "text": [
        "7100 , "
       ]
      },
      {
       "output_type": "stream",
       "stream": "stdout",
       "text": [
        "7200 , "
       ]
      },
      {
       "output_type": "stream",
       "stream": "stdout",
       "text": [
        "7300 , "
       ]
      },
      {
       "output_type": "stream",
       "stream": "stdout",
       "text": [
        "7400 , "
       ]
      },
      {
       "output_type": "stream",
       "stream": "stdout",
       "text": [
        "7500 , "
       ]
      },
      {
       "output_type": "stream",
       "stream": "stdout",
       "text": [
        "7600 , "
       ]
      },
      {
       "output_type": "stream",
       "stream": "stdout",
       "text": [
        "7700 , "
       ]
      },
      {
       "output_type": "stream",
       "stream": "stdout",
       "text": [
        "7800 , "
       ]
      },
      {
       "output_type": "stream",
       "stream": "stdout",
       "text": [
        "7900 , "
       ]
      },
      {
       "output_type": "stream",
       "stream": "stdout",
       "text": [
        "8000 , "
       ]
      },
      {
       "output_type": "stream",
       "stream": "stdout",
       "text": [
        "8100 , "
       ]
      },
      {
       "output_type": "stream",
       "stream": "stdout",
       "text": [
        "8200 , "
       ]
      },
      {
       "output_type": "stream",
       "stream": "stdout",
       "text": [
        "8300 , "
       ]
      },
      {
       "output_type": "stream",
       "stream": "stdout",
       "text": [
        "8400 , "
       ]
      },
      {
       "output_type": "stream",
       "stream": "stdout",
       "text": [
        "8500 , "
       ]
      },
      {
       "output_type": "stream",
       "stream": "stdout",
       "text": [
        "8600 , "
       ]
      },
      {
       "output_type": "stream",
       "stream": "stdout",
       "text": [
        "8700 , "
       ]
      },
      {
       "output_type": "stream",
       "stream": "stdout",
       "text": [
        "8800 , "
       ]
      },
      {
       "output_type": "stream",
       "stream": "stdout",
       "text": [
        "8900 , "
       ]
      },
      {
       "output_type": "stream",
       "stream": "stdout",
       "text": [
        "9000 , "
       ]
      },
      {
       "output_type": "stream",
       "stream": "stdout",
       "text": [
        "9100 , "
       ]
      },
      {
       "output_type": "stream",
       "stream": "stdout",
       "text": [
        "9200 , "
       ]
      },
      {
       "output_type": "stream",
       "stream": "stdout",
       "text": [
        "9300 , "
       ]
      },
      {
       "output_type": "stream",
       "stream": "stdout",
       "text": [
        "9400 , "
       ]
      },
      {
       "output_type": "stream",
       "stream": "stdout",
       "text": [
        "9500 , "
       ]
      },
      {
       "output_type": "stream",
       "stream": "stdout",
       "text": [
        "9600 , "
       ]
      },
      {
       "output_type": "stream",
       "stream": "stdout",
       "text": [
        "9700 , "
       ]
      },
      {
       "output_type": "stream",
       "stream": "stdout",
       "text": [
        "9800 , "
       ]
      },
      {
       "output_type": "stream",
       "stream": "stdout",
       "text": [
        "9900 , "
       ]
      },
      {
       "output_type": "stream",
       "stream": "stdout",
       "text": [
        "\n",
        "creating 1000000 byte block: 0.000039 sec, writing 10000 blocks 31.515228 sec\n"
       ]
      }
     ],
     "prompt_number": 17
    },
    {
     "cell_type": "code",
     "collapsed": false,
     "input": [
      "!ls -lh\n",
      "!rm B*"
     ],
     "language": "python",
     "metadata": {},
     "outputs": [
      {
       "output_type": "stream",
       "stream": "stdout",
       "text": [
        "total 21701200\r\n",
        "-rw-r--r--  1 yoavfreund  503   977K Oct 14 17:26 BufIO1\r\n",
        "-rw-r--r--  1 yoavfreund  503   9.5M Oct 14 17:26 BufIO10\r\n",
        "-rw-r--r--  1 yoavfreund  503    95M Oct 14 17:26 BufIO100\r\n",
        "-rw-r--r--  1 yoavfreund  503   954M Oct 14 17:27 BufIO1000\r\n",
        "-rw-r--r--  1 yoavfreund  503   9.3G Oct 14 17:28 BufIO10000\r\n",
        "-rw-r--r--  1 yoavfreund  503     0B Oct 14 17:16 stats.txt\r\n"
       ]
      }
     ],
     "prompt_number": 18
    },
    {
     "cell_type": "code",
     "collapsed": false,
     "input": [
      "import time\n",
      "\n",
      "Line='Consecutive Memory writes'\n",
      "print Line; stat.write(Line+'\\n')\n",
      "n=1000\n",
      "r=np.array(range(n))\n",
      "for m in [1,3,5,7,10,100,1000,10000,100000,1000000]:\n",
      "    t1=time.time()\n",
      "    A=np.repeat(r,m)\n",
      "    t2=time.time()\n",
      "    tee(\"array of length %d repeated %d times. total size=%6.3f MB, Time per element= %g\" % (n,m,float(n*m)/1000000,(t2-t1)/float(n*m)))\n",
      "A=[];r=[]\n",
      "stat.close()"
     ],
     "language": "python",
     "metadata": {},
     "outputs": [
      {
       "output_type": "stream",
       "stream": "stdout",
       "text": [
        "Consecutive Memory writes\n",
        "array of length 1000 repeated 1 times. total size= 0.001 MB, Time per element= 1.50204e-08\n",
        "array of length 1000 repeated 3 times. total size= 0.003 MB, Time per element= 7.3115e-09\n",
        "array of length 1000 repeated 5 times. total size= 0.005 MB, Time per element= 7.39098e-09\n",
        "array of length 1000 repeated 7 times. total size= 0.007 MB, Time per element= 9.60486e-09\n",
        "array of length 1000 repeated 10 times. total size= 0.010 MB, Time per element= 9.799e-09\n",
        "array of length 1000 repeated 100 times. total size= 0.100 MB, Time per element= 5.31912e-09\n",
        "array of length 1000 repeated 1000 times. total size= 1.000 MB, Time per element= 5.5151e-09\n",
        "array of length 1000 repeated 10000 times. total size=10.000 MB, Time per element= 5.91691e-09"
       ]
      },
      {
       "output_type": "stream",
       "stream": "stdout",
       "text": [
        "\n",
        "array of length 1000 repeated 100000 times. total size=100.000 MB, Time per element= 8.26793e-09"
       ]
      },
      {
       "output_type": "stream",
       "stream": "stdout",
       "text": [
        "\n",
        "array of length 1000 repeated 1000000 times. total size=1000.000 MB, Time per element= 1.15166e-08"
       ]
      },
      {
       "output_type": "stream",
       "stream": "stdout",
       "text": [
        "\n"
       ]
      }
     ],
     "prompt_number": 6
    },
    {
     "cell_type": "code",
     "collapsed": false,
     "input": [
      "!echo `hostname` > hostname"
     ],
     "language": "python",
     "metadata": {},
     "outputs": [],
     "prompt_number": 94
    },
    {
     "cell_type": "code",
     "collapsed": false,
     "input": [
      "!cat /proc/cpuinfo > cpuinfo\n",
      "!cat /proc/meminfo > meminfo"
     ],
     "language": "python",
     "metadata": {},
     "outputs": [],
     "prompt_number": 95
    },
    {
     "cell_type": "code",
     "collapsed": false,
     "input": [
      "!system_profiler >system_profiler.out   # A profiling command for mac"
     ],
     "language": "python",
     "metadata": {},
     "outputs": [
      {
       "output_type": "stream",
       "stream": "stdout",
       "text": [
        "/bin/sh: 1: system_profiler: not found\r\n"
       ]
      }
     ],
     "prompt_number": 52
    },
    {
     "cell_type": "code",
     "collapsed": false,
     "input": [
      "file=open('system_profiler.out','r')\n",
      "Print_flag=False\n",
      "for line in file.readlines():\n",
      "    if line.startswith('Hardware:'):\n",
      "        Print_flag=True\n",
      "    if Print_flag and line.startswith('Installations:'):\n",
      "        break\n",
      "    if Print_flag:\n",
      "        print line,\n",
      "        "
     ],
     "language": "python",
     "metadata": {},
     "outputs": [],
     "prompt_number": 53
    },
    {
     "cell_type": "code",
     "collapsed": false,
     "input": [
      "!cat stats.txt"
     ],
     "language": "python",
     "metadata": {},
     "outputs": [
      {
       "output_type": "stream",
       "stream": "stdout",
       "text": [
        "\r\n",
        "creating 1000000 byte block: 0.000821, writing 1 blocks 0.000996\r\n",
        "\r\n",
        "File pokes mean=9.10135030746e-06, file std=0.000185824915081\r\n",
        "\r\n",
        "Memory pokes mean=1.74527168274e-06, file std=5.01469258693e-07\r\n",
        "\r\n",
        "creating 1000000 byte block: 0.000079, writing 10 blocks 0.006422\r\n",
        "\r\n",
        "File pokes mean=8.58283758163e-06, file std=8.08081043866e-07\r\n",
        "\r\n",
        "Memory pokes mean=1.78812265396e-06, file std=4.86007954514e-07\r\n",
        "\r\n",
        "creating 1000000 byte block: 0.000112, writing 100 blocks 0.060451\r\n",
        "\r\n",
        "File pokes mean=8.83054494858e-06, file std=9.63406577187e-07\r\n",
        "\r\n",
        "Memory pokes mean=1.79579257965e-06, file std=4.92295373915e-07\r\n",
        "\r\n",
        "creating 1000000 byte block: 0.000114, writing 1000 blocks 0.608214\r\n",
        "\r\n",
        "File pokes mean=1.00868082047e-05, file std=0.000253716416115\r\n",
        "\r\n",
        "Memory pokes mean=1.82849645615e-06, file std=4.62373951503e-07\r\n",
        "Consecutive Memory writes\r\n",
        "array of length 1000 repeated 1 times. total size= 0.001 MB, Time per element= 1.90735e-08\r\n",
        "array of length 1000 repeated 3 times. total size= 0.003 MB, Time per element= 8.26518e-09\r\n",
        "array of length 1000 repeated 5 times. total size= 0.005 MB, Time per element= 7.00951e-09\r\n",
        "array of length 1000 repeated 7 times. total size= 0.007 MB, Time per element= 1.41348e-08\r\n",
        "array of length 1000 repeated 10 times. total size= 0.010 MB, Time per element= 6.19888e-09\r\n",
        "array of length 1000 repeated 100 times. total size= 0.100 MB, Time per element= 1.0221e-08\r\n",
        "array of length 1000 repeated 1000 times. total size= 1.000 MB, Time per element= 1.00188e-08\r\n",
        "array of length 1000 repeated 10000 times. total size=10.000 MB, Time per element= 1.05831e-08\r\n",
        "array of length 1000 repeated 100000 times. total size=100.000 MB, Time per element= 1.08111e-08\r\n",
        "array of length 1000 repeated 1000000 times. total size=1000.000 MB, Time per element= 1.08459e-08\r\n"
       ]
      }
     ],
     "prompt_number": 97
    },
    {
     "cell_type": "code",
     "collapsed": false,
     "input": [],
     "language": "python",
     "metadata": {},
     "outputs": []
    }
   ],
   "metadata": {}
  }
 ]
}